{
 "cells": [
  {
   "cell_type": "markdown",
   "id": "c84c9150",
   "metadata": {},
   "source": [
    "# Introduction"
   ]
  },
  {
   "cell_type": "markdown",
   "id": "6002cc38",
   "metadata": {},
   "source": [
    "This is a solution to the fake news classification problem based on the \"a Million News Headline\" and the \"Fake News Net\" dataset.We use the GloVe word vectors to facilitate the embedding of new headlines, and train several classifiers to distinguish between real and fake news headlines."
   ]
  },
  {
   "cell_type": "markdown",
   "id": "cbce3e7a",
   "metadata": {},
   "source": [
    "# Preparation"
   ]
  },
  {
   "cell_type": "markdown",
   "id": "a6d0f96d",
   "metadata": {},
   "source": [
    "Import packages as needed:"
   ]
  },
  {
   "cell_type": "code",
   "execution_count": 1,
   "id": "7cadc530",
   "metadata": {},
   "outputs": [],
   "source": [
    "import pandas as pd\n",
    "import numpy as np\n",
    "\n",
    "from sklearn.model_selection import train_test_split\n",
    "from sklearn.feature_extraction.text import TfidfVectorizer\n",
    "\n",
    "import re\n",
    "import nltk\n",
    "from nltk.corpus import stopwords\n",
    "from collections import Counter\n",
    "\n",
    "import tensorflow as tf\n",
    "from tensorflow.keras.models import Model\n",
    "from tensorflow.keras.layers import Input, Dense\n",
    "from tensorflow.keras.optimizers import Adam\n",
    "from tensorflow.keras.losses import MeanSquaredError\n"
   ]
  },
  {
   "cell_type": "markdown",
   "id": "e3c7d954",
   "metadata": {},
   "source": [
    "Define a function to clean text. This removes irregular symbols and stop words."
   ]
  },
  {
   "cell_type": "code",
   "execution_count": 2,
   "id": "4f01cc77",
   "metadata": {},
   "outputs": [],
   "source": [
    "def clean_text(text):\n",
    "    # Remove special characters and numbers\n",
    "    text = re.sub('[^a-zA-Z]', ' ', text)\n",
    "\n",
    "    # Convert text to lowercase and tokenize words\n",
    "    words = text.lower().split()\n",
    "\n",
    "    # Remove stopwords\n",
    "    stop_words = set(stopwords.words('english'))\n",
    "    words = [word for word in words if word not in stop_words]\n",
    "\n",
    "    # Join words back into a single string\n",
    "    cleaned_text = ' '.join(words)\n",
    "    \n",
    "    return cleaned_text\n",
    "\n"
   ]
  },
  {
   "cell_type": "markdown",
   "id": "b4f95a7c",
   "metadata": {},
   "source": [
    "Data preprocessing: we use \"a Million News Headlines\" as real headlines (with label 1), and the fake ones in \"Fake News Net\" as fake headlines (with label 0)."
   ]
  },
  {
   "cell_type": "code",
   "execution_count": 3,
   "id": "0e7006d8",
   "metadata": {},
   "outputs": [],
   "source": [
    "# Load datasets\n",
    "fake_politifact = pd.read_csv('politifact_fake.csv')\n",
    "fake_gossipcop = pd.read_csv('gossipcop_fake.csv')\n",
    "abcnews = pd.read_csv('abcnews-date-text.csv')\n",
    "\n",
    "# Assign labels: 0 for fake news, 1 for real news\n",
    "fake_politifact['label'] = 0\n",
    "fake_gossipcop['label'] = 0\n",
    "abcnews['label'] = 1\n",
    "\n",
    "# Preprocess the dataset\n",
    "abcnews = abcnews.sample(5755)  # Sample 5,755 headlines to balance the two classes\n",
    "abcnews.rename(columns={'headline_text': 'title'}, inplace=True)  # Rename the column to match other datasets\n",
    "abcnews['cleaned_title'] = abcnews['title'].apply(clean_text)  # Clean the headlines\n",
    "\n",
    "# Concatenate datasets\n",
    "data = pd.concat([fake_politifact, abcnews, fake_gossipcop], axis=0, ignore_index=True)\n",
    "data['cleaned_title'] = data['title'].apply(clean_text)"
   ]
  },
  {
   "cell_type": "code",
   "execution_count": null,
   "id": "6fe140bc",
   "metadata": {},
   "outputs": [],
   "source": []
  },
  {
   "cell_type": "code",
   "execution_count": 4,
   "id": "dd92cfe7",
   "metadata": {},
   "outputs": [],
   "source": [
    "# Split data into training and testing sets (80% train, 20% test)\n",
    "train_data, test_data = train_test_split(data, test_size=0.2, random_state=42)"
   ]
  },
  {
   "cell_type": "markdown",
   "id": "f69a11ce",
   "metadata": {},
   "source": [
    "Let's have a look at the data."
   ]
  },
  {
   "cell_type": "code",
   "execution_count": 5,
   "id": "2ab5eefa",
   "metadata": {},
   "outputs": [
    {
     "data": {
      "text/plain": [
       "(9208, 7)"
      ]
     },
     "execution_count": 5,
     "metadata": {},
     "output_type": "execute_result"
    }
   ],
   "source": [
    "train_data.shape"
   ]
  },
  {
   "cell_type": "code",
   "execution_count": 6,
   "id": "2b70117f",
   "metadata": {},
   "outputs": [
    {
     "data": {
      "text/html": [
       "<div>\n",
       "<style scoped>\n",
       "    .dataframe tbody tr th:only-of-type {\n",
       "        vertical-align: middle;\n",
       "    }\n",
       "\n",
       "    .dataframe tbody tr th {\n",
       "        vertical-align: top;\n",
       "    }\n",
       "\n",
       "    .dataframe thead th {\n",
       "        text-align: right;\n",
       "    }\n",
       "</style>\n",
       "<table border=\"1\" class=\"dataframe\">\n",
       "  <thead>\n",
       "    <tr style=\"text-align: right;\">\n",
       "      <th></th>\n",
       "      <th>id</th>\n",
       "      <th>news_url</th>\n",
       "      <th>title</th>\n",
       "      <th>tweet_ids</th>\n",
       "      <th>label</th>\n",
       "      <th>publish_date</th>\n",
       "      <th>cleaned_title</th>\n",
       "    </tr>\n",
       "  </thead>\n",
       "  <tbody>\n",
       "    <tr>\n",
       "      <th>5551</th>\n",
       "      <td>NaN</td>\n",
       "      <td>NaN</td>\n",
       "      <td>restraint needed in tibet but no olympic boycott</td>\n",
       "      <td>NaN</td>\n",
       "      <td>1</td>\n",
       "      <td>20080325.0</td>\n",
       "      <td>restraint needed tibet olympic boycott</td>\n",
       "    </tr>\n",
       "    <tr>\n",
       "      <th>6569</th>\n",
       "      <td>gossipcop-2870728999</td>\n",
       "      <td>people.com/health/celebrities-told-to-lose-weight</td>\n",
       "      <td>13 Celebrities Who Were Told to Lose Weight (Y...</td>\n",
       "      <td>NaN</td>\n",
       "      <td>0</td>\n",
       "      <td>NaN</td>\n",
       "      <td>celebrities told lose weight yep really</td>\n",
       "    </tr>\n",
       "    <tr>\n",
       "      <th>2152</th>\n",
       "      <td>NaN</td>\n",
       "      <td>NaN</td>\n",
       "      <td>higher peak prices could cut power bills overall</td>\n",
       "      <td>NaN</td>\n",
       "      <td>1</td>\n",
       "      <td>20140707.0</td>\n",
       "      <td>higher peak prices could cut power bills overall</td>\n",
       "    </tr>\n",
       "    <tr>\n",
       "      <th>6464</th>\n",
       "      <td>gossipcop-3807603124</td>\n",
       "      <td>www.lifeandstylemag.com/posts/gigi-hadid-zayn-...</td>\n",
       "      <td>Gigi Hadid Begs Zayn Malik to Quit Touring Due...</td>\n",
       "      <td>886209901948620800\\t886211348400656384\\t886309...</td>\n",
       "      <td>0</td>\n",
       "      <td>NaN</td>\n",
       "      <td>gigi hadid begs zayn malik quit touring due se...</td>\n",
       "    </tr>\n",
       "    <tr>\n",
       "      <th>3652</th>\n",
       "      <td>NaN</td>\n",
       "      <td>NaN</td>\n",
       "      <td>metgasco agm</td>\n",
       "      <td>NaN</td>\n",
       "      <td>1</td>\n",
       "      <td>20131029.0</td>\n",
       "      <td>metgasco agm</td>\n",
       "    </tr>\n",
       "  </tbody>\n",
       "</table>\n",
       "</div>"
      ],
      "text/plain": [
       "                        id                                           news_url  \\\n",
       "5551                   NaN                                                NaN   \n",
       "6569  gossipcop-2870728999  people.com/health/celebrities-told-to-lose-weight   \n",
       "2152                   NaN                                                NaN   \n",
       "6464  gossipcop-3807603124  www.lifeandstylemag.com/posts/gigi-hadid-zayn-...   \n",
       "3652                   NaN                                                NaN   \n",
       "\n",
       "                                                  title  \\\n",
       "5551   restraint needed in tibet but no olympic boycott   \n",
       "6569  13 Celebrities Who Were Told to Lose Weight (Y...   \n",
       "2152   higher peak prices could cut power bills overall   \n",
       "6464  Gigi Hadid Begs Zayn Malik to Quit Touring Due...   \n",
       "3652                                       metgasco agm   \n",
       "\n",
       "                                              tweet_ids  label  publish_date  \\\n",
       "5551                                                NaN      1    20080325.0   \n",
       "6569                                                NaN      0           NaN   \n",
       "2152                                                NaN      1    20140707.0   \n",
       "6464  886209901948620800\\t886211348400656384\\t886309...      0           NaN   \n",
       "3652                                                NaN      1    20131029.0   \n",
       "\n",
       "                                          cleaned_title  \n",
       "5551             restraint needed tibet olympic boycott  \n",
       "6569            celebrities told lose weight yep really  \n",
       "2152   higher peak prices could cut power bills overall  \n",
       "6464  gigi hadid begs zayn malik quit touring due se...  \n",
       "3652                                       metgasco agm  "
      ]
     },
     "execution_count": 6,
     "metadata": {},
     "output_type": "execute_result"
    }
   ],
   "source": [
    "train_data.head()\n"
   ]
  },
  {
   "cell_type": "code",
   "execution_count": 7,
   "id": "9a6070f8",
   "metadata": {},
   "outputs": [
    {
     "data": {
      "text/plain": [
       "(2302, 7)"
      ]
     },
     "execution_count": 7,
     "metadata": {},
     "output_type": "execute_result"
    }
   ],
   "source": [
    "test_data.shape"
   ]
  },
  {
   "cell_type": "code",
   "execution_count": 8,
   "id": "afe12e9a",
   "metadata": {},
   "outputs": [
    {
     "data": {
      "text/html": [
       "<div>\n",
       "<style scoped>\n",
       "    .dataframe tbody tr th:only-of-type {\n",
       "        vertical-align: middle;\n",
       "    }\n",
       "\n",
       "    .dataframe tbody tr th {\n",
       "        vertical-align: top;\n",
       "    }\n",
       "\n",
       "    .dataframe thead th {\n",
       "        text-align: right;\n",
       "    }\n",
       "</style>\n",
       "<table border=\"1\" class=\"dataframe\">\n",
       "  <thead>\n",
       "    <tr style=\"text-align: right;\">\n",
       "      <th></th>\n",
       "      <th>id</th>\n",
       "      <th>news_url</th>\n",
       "      <th>title</th>\n",
       "      <th>tweet_ids</th>\n",
       "      <th>label</th>\n",
       "      <th>publish_date</th>\n",
       "      <th>cleaned_title</th>\n",
       "    </tr>\n",
       "  </thead>\n",
       "  <tbody>\n",
       "    <tr>\n",
       "      <th>4630</th>\n",
       "      <td>NaN</td>\n",
       "      <td>NaN</td>\n",
       "      <td>interview with bob brown</td>\n",
       "      <td>NaN</td>\n",
       "      <td>1</td>\n",
       "      <td>20111123.0</td>\n",
       "      <td>interview bob brown</td>\n",
       "    </tr>\n",
       "    <tr>\n",
       "      <th>2802</th>\n",
       "      <td>NaN</td>\n",
       "      <td>NaN</td>\n",
       "      <td>senate sitting hears carbon tax fears</td>\n",
       "      <td>NaN</td>\n",
       "      <td>1</td>\n",
       "      <td>20110803.0</td>\n",
       "      <td>senate sitting hears carbon tax fears</td>\n",
       "    </tr>\n",
       "    <tr>\n",
       "      <th>7524</th>\n",
       "      <td>gossipcop-595491190</td>\n",
       "      <td>www.celebsnow.co.uk/celebrity-news/brad-pitt-s...</td>\n",
       "      <td>Is Brad Pitt secretly dating Sienna Miller fol...</td>\n",
       "      <td>880044110496890880\\t880045258058252295\\t880045...</td>\n",
       "      <td>0</td>\n",
       "      <td>NaN</td>\n",
       "      <td>brad pitt secretly dating sienna miller follow...</td>\n",
       "    </tr>\n",
       "    <tr>\n",
       "      <th>9679</th>\n",
       "      <td>gossipcop-789623646</td>\n",
       "      <td>indianexpress.com/article/entertainment/hollyw...</td>\n",
       "      <td>Priyanka Chopra not attending Oscars 2017 with...</td>\n",
       "      <td>835835678973796352\\t835836092435709954\\t835841...</td>\n",
       "      <td>0</td>\n",
       "      <td>NaN</td>\n",
       "      <td>priyanka chopra attending oscars mick jagger r...</td>\n",
       "    </tr>\n",
       "    <tr>\n",
       "      <th>10018</th>\n",
       "      <td>gossipcop-5001654773</td>\n",
       "      <td>hollywoodlife.com/2017/02/16/jared-leto-angeli...</td>\n",
       "      <td>Jared Leto &amp; Angelina Jolie: He Regrets Lettin...</td>\n",
       "      <td>832405673971376128\\t832405767261032448\\t832405...</td>\n",
       "      <td>0</td>\n",
       "      <td>NaN</td>\n",
       "      <td>jared leto angelina jolie regrets letting slip...</td>\n",
       "    </tr>\n",
       "  </tbody>\n",
       "</table>\n",
       "</div>"
      ],
      "text/plain": [
       "                         id  \\\n",
       "4630                    NaN   \n",
       "2802                    NaN   \n",
       "7524    gossipcop-595491190   \n",
       "9679    gossipcop-789623646   \n",
       "10018  gossipcop-5001654773   \n",
       "\n",
       "                                                news_url  \\\n",
       "4630                                                 NaN   \n",
       "2802                                                 NaN   \n",
       "7524   www.celebsnow.co.uk/celebrity-news/brad-pitt-s...   \n",
       "9679   indianexpress.com/article/entertainment/hollyw...   \n",
       "10018  hollywoodlife.com/2017/02/16/jared-leto-angeli...   \n",
       "\n",
       "                                                   title  \\\n",
       "4630                            interview with bob brown   \n",
       "2802               senate sitting hears carbon tax fears   \n",
       "7524   Is Brad Pitt secretly dating Sienna Miller fol...   \n",
       "9679   Priyanka Chopra not attending Oscars 2017 with...   \n",
       "10018  Jared Leto & Angelina Jolie: He Regrets Lettin...   \n",
       "\n",
       "                                               tweet_ids  label  publish_date  \\\n",
       "4630                                                 NaN      1    20111123.0   \n",
       "2802                                                 NaN      1    20110803.0   \n",
       "7524   880044110496890880\\t880045258058252295\\t880045...      0           NaN   \n",
       "9679   835835678973796352\\t835836092435709954\\t835841...      0           NaN   \n",
       "10018  832405673971376128\\t832405767261032448\\t832405...      0           NaN   \n",
       "\n",
       "                                           cleaned_title  \n",
       "4630                                 interview bob brown  \n",
       "2802               senate sitting hears carbon tax fears  \n",
       "7524   brad pitt secretly dating sienna miller follow...  \n",
       "9679   priyanka chopra attending oscars mick jagger r...  \n",
       "10018  jared leto angelina jolie regrets letting slip...  "
      ]
     },
     "execution_count": 8,
     "metadata": {},
     "output_type": "execute_result"
    }
   ],
   "source": [
    "test_data.head()"
   ]
  },
  {
   "cell_type": "markdown",
   "id": "2fbdd9a2",
   "metadata": {},
   "source": [
    "Load GloVe, a publicly available set of pre-trained word vectors:"
   ]
  },
  {
   "cell_type": "code",
   "execution_count": 9,
   "id": "34f8e0ea",
   "metadata": {},
   "outputs": [],
   "source": [
    "def load_glove_vectors(glove_file):\n",
    "    word_vectors = {}\n",
    "    with open(glove_file, 'r', encoding='utf-8') as f:\n",
    "        for line in f:\n",
    "            values = line.split()\n",
    "            word = values[0]\n",
    "            vector = np.asarray(values[1:], dtype='float32')\n",
    "            word_vectors[word] = vector\n",
    "    return word_vectors\n",
    "\n",
    "glove_vectors = load_glove_vectors('glove.6B.50d.txt')\n"
   ]
  },
  {
   "cell_type": "markdown",
   "id": "d1b840c3",
   "metadata": {},
   "source": [
    "The sentence vector is calculated by the tfidf-weighted average of its words."
   ]
  },
  {
   "cell_type": "code",
   "execution_count": 10,
   "id": "37b5e75f",
   "metadata": {},
   "outputs": [],
   "source": [
    "def weighted_average_vectors(docs, vectorizer, word_vectors, dim=50):\n",
    "    # Calculate the tf-idf weights for the given documents\n",
    "    tfidf_matrix = vectorizer.fit_transform(docs)\n",
    "\n",
    "    # Initialize an empty matrix to store the weighted average vectors\n",
    "    weighted_vectors = np.zeros((len(docs), dim))\n",
    "\n",
    "    # Iterate through the documents and compute the weighted average vector for each\n",
    "    for i, doc in enumerate(docs):\n",
    "        words = doc.split()\n",
    "        weighted_sum = np.zeros(dim)\n",
    "        total_weight = 0\n",
    "\n",
    "        for word in words:\n",
    "            if word in word_vectors and word in vectorizer.vocabulary_:\n",
    "                vector = word_vectors[word]\n",
    "                weight = tfidf_matrix[i, vectorizer.vocabulary_[word]]\n",
    "                weighted_sum += weight * vector\n",
    "                total_weight += weight\n",
    "\n",
    "        if total_weight != 0:\n",
    "            weighted_vectors[i] = weighted_sum / total_weight\n",
    "\n",
    "    return weighted_vectors\n"
   ]
  },
  {
   "cell_type": "code",
   "execution_count": 11,
   "id": "a6f562b3",
   "metadata": {},
   "outputs": [],
   "source": [
    "vectorizer = TfidfVectorizer(max_features=10000)\n",
    "X_train = weighted_average_vectors(train_data['cleaned_title'], vectorizer, glove_vectors)\n",
    "X_test = weighted_average_vectors(test_data['cleaned_title'], vectorizer, glove_vectors)\n",
    "\n",
    "y_train = train_data['label'].values\n",
    "y_test = test_data['label'].values\n"
   ]
  },
  {
   "cell_type": "markdown",
   "id": "4243020a",
   "metadata": {},
   "source": [
    "# Classifiers"
   ]
  },
  {
   "cell_type": "markdown",
   "id": "6589b27f",
   "metadata": {},
   "source": [
    "Autoencoder"
   ]
  },
  {
   "cell_type": "code",
   "execution_count": 12,
   "id": "4f1f4514",
   "metadata": {},
   "outputs": [],
   "source": [
    "def create_autoencoder(input_dim, encoding_dim, hidden_layers):\n",
    "    # Encoder\n",
    "    encoder_input = Input(shape=(input_dim,))\n",
    "    encoder_layers = [Dense(hidden_layers[0], activation='relu')(encoder_input)]\n",
    "\n",
    "    for layer_size in hidden_layers[1:]:\n",
    "        encoder_layers.append(Dense(layer_size, activation='relu')(encoder_layers[-1]))\n",
    "\n",
    "    # Encoded representation\n",
    "    encoded = Dense(encoding_dim, activation='relu')(encoder_layers[-1])\n",
    "\n",
    "    # Decoder\n",
    "    decoder_layers = [Dense(hidden_layers[-1], activation='relu')(encoded)]\n",
    "\n",
    "    for layer_size in reversed(hidden_layers[:-1]):\n",
    "        decoder_layers.append(Dense(layer_size, activation='relu')(decoder_layers[-1]))\n",
    "\n",
    "    # Reconstruction\n",
    "    decoder_output = Dense(input_dim, activation='linear')(decoder_layers[-1])\n",
    "\n",
    "    # Build the autoencoder model\n",
    "    autoencoder = Model(encoder_input, decoder_output)\n",
    "    return autoencoder\n"
   ]
  },
  {
   "cell_type": "code",
   "execution_count": 13,
   "id": "9930a651",
   "metadata": {},
   "outputs": [
    {
     "name": "stdout",
     "output_type": "stream",
     "text": [
      "Model: \"model\"\n",
      "_________________________________________________________________\n",
      " Layer (type)                Output Shape              Param #   \n",
      "=================================================================\n",
      " input_1 (InputLayer)        [(None, 50)]              0         \n",
      "                                                                 \n",
      " dense (Dense)               (None, 35)                1785      \n",
      "                                                                 \n",
      " dense_1 (Dense)             (None, 20)                720       \n",
      "                                                                 \n",
      " dense_2 (Dense)             (None, 15)                315       \n",
      "                                                                 \n",
      " dense_3 (Dense)             (None, 20)                320       \n",
      "                                                                 \n",
      " dense_4 (Dense)             (None, 35)                735       \n",
      "                                                                 \n",
      " dense_5 (Dense)             (None, 50)                1800      \n",
      "                                                                 \n",
      "=================================================================\n",
      "Total params: 5,675\n",
      "Trainable params: 5,675\n",
      "Non-trainable params: 0\n",
      "_________________________________________________________________\n"
     ]
    }
   ],
   "source": [
    "input_dim = X_train.shape[1]\n",
    "encoding_dim = 15\n",
    "hidden_layers = [35, 20]\n",
    "\n",
    "autoencoder = create_autoencoder(input_dim, encoding_dim, hidden_layers)\n",
    "autoencoder.summary()\n"
   ]
  },
  {
   "cell_type": "code",
   "execution_count": 14,
   "id": "f2e46912",
   "metadata": {},
   "outputs": [
    {
     "name": "stdout",
     "output_type": "stream",
     "text": [
      "Epoch 1/100\n",
      "130/130 [==============================] - 2s 9ms/step - loss: 0.1600 - val_loss: 0.1128\n",
      "Epoch 2/100\n",
      "130/130 [==============================] - 0s 3ms/step - loss: 0.1043 - val_loss: 0.0979\n",
      "Epoch 3/100\n",
      "130/130 [==============================] - 0s 3ms/step - loss: 0.0910 - val_loss: 0.0872\n",
      "Epoch 4/100\n",
      "130/130 [==============================] - 0s 3ms/step - loss: 0.0817 - val_loss: 0.0796\n",
      "Epoch 5/100\n",
      "130/130 [==============================] - 0s 3ms/step - loss: 0.0759 - val_loss: 0.0757\n",
      "Epoch 6/100\n",
      "130/130 [==============================] - 0s 3ms/step - loss: 0.0725 - val_loss: 0.0729\n",
      "Epoch 7/100\n",
      "130/130 [==============================] - 0s 3ms/step - loss: 0.0698 - val_loss: 0.0705\n",
      "Epoch 8/100\n",
      "130/130 [==============================] - 0s 3ms/step - loss: 0.0680 - val_loss: 0.0695\n",
      "Epoch 9/100\n",
      "130/130 [==============================] - 0s 3ms/step - loss: 0.0670 - val_loss: 0.0682\n",
      "Epoch 10/100\n",
      "130/130 [==============================] - 0s 3ms/step - loss: 0.0658 - val_loss: 0.0672\n",
      "Epoch 11/100\n",
      "130/130 [==============================] - 0s 3ms/step - loss: 0.0642 - val_loss: 0.0652\n",
      "Epoch 12/100\n",
      "130/130 [==============================] - 0s 3ms/step - loss: 0.0631 - val_loss: 0.0642\n",
      "Epoch 13/100\n",
      "130/130 [==============================] - 0s 3ms/step - loss: 0.0621 - val_loss: 0.0631\n",
      "Epoch 14/100\n",
      "130/130 [==============================] - 0s 3ms/step - loss: 0.0611 - val_loss: 0.0620\n",
      "Epoch 15/100\n",
      "130/130 [==============================] - 0s 3ms/step - loss: 0.0603 - val_loss: 0.0616\n",
      "Epoch 16/100\n",
      "130/130 [==============================] - 0s 3ms/step - loss: 0.0596 - val_loss: 0.0611\n",
      "Epoch 17/100\n",
      "130/130 [==============================] - 0s 3ms/step - loss: 0.0593 - val_loss: 0.0609\n",
      "Epoch 18/100\n",
      "130/130 [==============================] - 0s 3ms/step - loss: 0.0588 - val_loss: 0.0600\n",
      "Epoch 19/100\n",
      "130/130 [==============================] - 0s 3ms/step - loss: 0.0584 - val_loss: 0.0604\n",
      "Epoch 20/100\n",
      "130/130 [==============================] - 0s 3ms/step - loss: 0.0581 - val_loss: 0.0595\n",
      "Epoch 21/100\n",
      "130/130 [==============================] - 0s 3ms/step - loss: 0.0577 - val_loss: 0.0594\n",
      "Epoch 22/100\n",
      "130/130 [==============================] - 0s 3ms/step - loss: 0.0575 - val_loss: 0.0590\n",
      "Epoch 23/100\n",
      "130/130 [==============================] - 0s 3ms/step - loss: 0.0572 - val_loss: 0.0590\n",
      "Epoch 24/100\n",
      "130/130 [==============================] - 0s 3ms/step - loss: 0.0570 - val_loss: 0.0588\n",
      "Epoch 25/100\n",
      "130/130 [==============================] - 0s 3ms/step - loss: 0.0568 - val_loss: 0.0591\n",
      "Epoch 26/100\n",
      "130/130 [==============================] - 0s 3ms/step - loss: 0.0567 - val_loss: 0.0586\n",
      "Epoch 27/100\n",
      "130/130 [==============================] - 0s 3ms/step - loss: 0.0564 - val_loss: 0.0582\n",
      "Epoch 28/100\n",
      "130/130 [==============================] - 0s 3ms/step - loss: 0.0561 - val_loss: 0.0581\n",
      "Epoch 29/100\n",
      "130/130 [==============================] - 0s 3ms/step - loss: 0.0561 - val_loss: 0.0577\n",
      "Epoch 30/100\n",
      "130/130 [==============================] - 0s 3ms/step - loss: 0.0558 - val_loss: 0.0575\n",
      "Epoch 31/100\n",
      "130/130 [==============================] - 0s 3ms/step - loss: 0.0557 - val_loss: 0.0577\n",
      "Epoch 32/100\n",
      "130/130 [==============================] - 0s 3ms/step - loss: 0.0555 - val_loss: 0.0571\n",
      "Epoch 33/100\n",
      "130/130 [==============================] - 0s 3ms/step - loss: 0.0553 - val_loss: 0.0570\n",
      "Epoch 34/100\n",
      "130/130 [==============================] - 0s 3ms/step - loss: 0.0551 - val_loss: 0.0569\n",
      "Epoch 35/100\n",
      "130/130 [==============================] - 0s 3ms/step - loss: 0.0547 - val_loss: 0.0563\n",
      "Epoch 36/100\n",
      "130/130 [==============================] - 0s 3ms/step - loss: 0.0542 - val_loss: 0.0559\n",
      "Epoch 37/100\n",
      "130/130 [==============================] - 0s 3ms/step - loss: 0.0537 - val_loss: 0.0556\n",
      "Epoch 38/100\n",
      "130/130 [==============================] - 0s 3ms/step - loss: 0.0532 - val_loss: 0.0550\n",
      "Epoch 39/100\n",
      "130/130 [==============================] - 0s 3ms/step - loss: 0.0529 - val_loss: 0.0548\n",
      "Epoch 40/100\n",
      "130/130 [==============================] - 0s 3ms/step - loss: 0.0527 - val_loss: 0.0546\n",
      "Epoch 41/100\n",
      "130/130 [==============================] - 0s 3ms/step - loss: 0.0525 - val_loss: 0.0549\n",
      "Epoch 42/100\n",
      "130/130 [==============================] - 0s 3ms/step - loss: 0.0524 - val_loss: 0.0546\n",
      "Epoch 43/100\n",
      "130/130 [==============================] - 0s 3ms/step - loss: 0.0522 - val_loss: 0.0545\n",
      "Epoch 44/100\n",
      "130/130 [==============================] - 0s 3ms/step - loss: 0.0521 - val_loss: 0.0549\n",
      "Epoch 45/100\n",
      "130/130 [==============================] - 0s 3ms/step - loss: 0.0520 - val_loss: 0.0543\n",
      "Epoch 46/100\n",
      "130/130 [==============================] - 0s 3ms/step - loss: 0.0519 - val_loss: 0.0544\n",
      "Epoch 47/100\n",
      "130/130 [==============================] - 0s 3ms/step - loss: 0.0518 - val_loss: 0.0540\n",
      "Epoch 48/100\n",
      "130/130 [==============================] - 0s 3ms/step - loss: 0.0517 - val_loss: 0.0539\n",
      "Epoch 49/100\n",
      "130/130 [==============================] - 0s 3ms/step - loss: 0.0516 - val_loss: 0.0539\n",
      "Epoch 50/100\n",
      "130/130 [==============================] - 0s 3ms/step - loss: 0.0516 - val_loss: 0.0539\n",
      "Epoch 51/100\n",
      "130/130 [==============================] - 0s 3ms/step - loss: 0.0514 - val_loss: 0.0538\n",
      "Epoch 52/100\n",
      "130/130 [==============================] - 0s 3ms/step - loss: 0.0514 - val_loss: 0.0538\n",
      "Epoch 53/100\n",
      "130/130 [==============================] - 0s 3ms/step - loss: 0.0513 - val_loss: 0.0535\n",
      "Epoch 54/100\n",
      "130/130 [==============================] - 0s 3ms/step - loss: 0.0513 - val_loss: 0.0537\n",
      "Epoch 55/100\n",
      "130/130 [==============================] - 0s 3ms/step - loss: 0.0512 - val_loss: 0.0536\n",
      "Epoch 56/100\n",
      "130/130 [==============================] - 0s 3ms/step - loss: 0.0511 - val_loss: 0.0536\n",
      "Epoch 57/100\n",
      "130/130 [==============================] - 0s 3ms/step - loss: 0.0511 - val_loss: 0.0537\n",
      "Epoch 58/100\n",
      "130/130 [==============================] - 0s 3ms/step - loss: 0.0510 - val_loss: 0.0535\n",
      "Epoch 59/100\n",
      "130/130 [==============================] - 0s 3ms/step - loss: 0.0509 - val_loss: 0.0533\n",
      "Epoch 60/100\n",
      "130/130 [==============================] - 0s 3ms/step - loss: 0.0509 - val_loss: 0.0533\n",
      "Epoch 61/100\n",
      "130/130 [==============================] - 0s 3ms/step - loss: 0.0508 - val_loss: 0.0533\n",
      "Epoch 62/100\n",
      "130/130 [==============================] - 0s 3ms/step - loss: 0.0508 - val_loss: 0.0531\n",
      "Epoch 63/100\n",
      "130/130 [==============================] - 0s 3ms/step - loss: 0.0507 - val_loss: 0.0535\n",
      "Epoch 64/100\n",
      "130/130 [==============================] - 0s 3ms/step - loss: 0.0508 - val_loss: 0.0532\n",
      "Epoch 65/100\n",
      "130/130 [==============================] - 0s 3ms/step - loss: 0.0506 - val_loss: 0.0532\n",
      "Epoch 66/100\n",
      "130/130 [==============================] - 0s 3ms/step - loss: 0.0507 - val_loss: 0.0535\n",
      "Epoch 67/100\n",
      "130/130 [==============================] - 0s 3ms/step - loss: 0.0506 - val_loss: 0.0530\n",
      "Epoch 68/100\n",
      "130/130 [==============================] - 0s 3ms/step - loss: 0.0506 - val_loss: 0.0533\n",
      "Epoch 69/100\n",
      "130/130 [==============================] - 0s 3ms/step - loss: 0.0506 - val_loss: 0.0531\n",
      "Epoch 70/100\n",
      "130/130 [==============================] - 0s 3ms/step - loss: 0.0505 - val_loss: 0.0533\n",
      "Epoch 71/100\n",
      "130/130 [==============================] - 0s 3ms/step - loss: 0.0505 - val_loss: 0.0533\n",
      "Epoch 72/100\n",
      "130/130 [==============================] - 0s 3ms/step - loss: 0.0505 - val_loss: 0.0530\n",
      "Epoch 73/100\n",
      "130/130 [==============================] - 0s 3ms/step - loss: 0.0503 - val_loss: 0.0532\n",
      "Epoch 74/100\n",
      "130/130 [==============================] - 0s 3ms/step - loss: 0.0503 - val_loss: 0.0531\n",
      "Epoch 75/100\n",
      "130/130 [==============================] - 0s 3ms/step - loss: 0.0503 - val_loss: 0.0535\n",
      "Epoch 76/100\n",
      "130/130 [==============================] - 0s 3ms/step - loss: 0.0503 - val_loss: 0.0531\n",
      "Epoch 77/100\n",
      "130/130 [==============================] - 0s 3ms/step - loss: 0.0502 - val_loss: 0.0531\n",
      "Epoch 78/100\n",
      "130/130 [==============================] - 0s 3ms/step - loss: 0.0503 - val_loss: 0.0530\n",
      "Epoch 79/100\n",
      "130/130 [==============================] - 0s 3ms/step - loss: 0.0502 - val_loss: 0.0529\n",
      "Epoch 80/100\n",
      "130/130 [==============================] - 0s 3ms/step - loss: 0.0501 - val_loss: 0.0529\n",
      "Epoch 81/100\n"
     ]
    },
    {
     "name": "stdout",
     "output_type": "stream",
     "text": [
      "130/130 [==============================] - 0s 3ms/step - loss: 0.0501 - val_loss: 0.0530\n",
      "Epoch 82/100\n",
      "130/130 [==============================] - 0s 3ms/step - loss: 0.0501 - val_loss: 0.0532\n",
      "Epoch 83/100\n",
      "130/130 [==============================] - 0s 3ms/step - loss: 0.0501 - val_loss: 0.0528\n",
      "Epoch 84/100\n",
      "130/130 [==============================] - 0s 3ms/step - loss: 0.0500 - val_loss: 0.0530\n",
      "Epoch 85/100\n",
      "130/130 [==============================] - 0s 3ms/step - loss: 0.0500 - val_loss: 0.0527\n",
      "Epoch 86/100\n",
      "130/130 [==============================] - 0s 3ms/step - loss: 0.0499 - val_loss: 0.0529\n",
      "Epoch 87/100\n",
      "130/130 [==============================] - 0s 3ms/step - loss: 0.0499 - val_loss: 0.0528\n",
      "Epoch 88/100\n",
      "130/130 [==============================] - 0s 3ms/step - loss: 0.0499 - val_loss: 0.0529\n",
      "Epoch 89/100\n",
      "130/130 [==============================] - 0s 3ms/step - loss: 0.0499 - val_loss: 0.0528\n",
      "Epoch 90/100\n",
      "130/130 [==============================] - 0s 3ms/step - loss: 0.0499 - val_loss: 0.0528\n",
      "Epoch 91/100\n",
      "130/130 [==============================] - 0s 3ms/step - loss: 0.0499 - val_loss: 0.0529\n",
      "Epoch 92/100\n",
      "130/130 [==============================] - 0s 3ms/step - loss: 0.0497 - val_loss: 0.0527\n",
      "Epoch 93/100\n",
      "130/130 [==============================] - 0s 3ms/step - loss: 0.0498 - val_loss: 0.0527\n",
      "Epoch 94/100\n",
      "130/130 [==============================] - 0s 3ms/step - loss: 0.0497 - val_loss: 0.0529\n",
      "Epoch 95/100\n",
      "130/130 [==============================] - 0s 3ms/step - loss: 0.0497 - val_loss: 0.0527\n",
      "Epoch 96/100\n",
      "130/130 [==============================] - 0s 3ms/step - loss: 0.0497 - val_loss: 0.0530\n",
      "Epoch 97/100\n",
      "130/130 [==============================] - 0s 3ms/step - loss: 0.0497 - val_loss: 0.0528\n",
      "Epoch 98/100\n",
      "130/130 [==============================] - 0s 3ms/step - loss: 0.0497 - val_loss: 0.0526\n",
      "Epoch 99/100\n",
      "130/130 [==============================] - 0s 3ms/step - loss: 0.0496 - val_loss: 0.0528\n",
      "Epoch 100/100\n",
      "130/130 [==============================] - 0s 3ms/step - loss: 0.0495 - val_loss: 0.0528\n"
     ]
    },
    {
     "data": {
      "text/plain": [
       "<keras.callbacks.History at 0x2071b428fd0>"
      ]
     },
     "execution_count": 14,
     "metadata": {},
     "output_type": "execute_result"
    }
   ],
   "source": [
    "# Compile the model\n",
    "optimizer = Adam(learning_rate=0.001)\n",
    "loss = MeanSquaredError()\n",
    "autoencoder.compile(optimizer=optimizer, loss=loss)\n",
    "\n",
    "# Train the model\n",
    "real_headlines = X_train[y_train == 1]  # filter real news headlines\n",
    "epochs = 100\n",
    "batch_size = 32\n",
    "autoencoder.fit(real_headlines, real_headlines, epochs=epochs, batch_size=batch_size, validation_split=0.1)\n"
   ]
  },
  {
   "cell_type": "code",
   "execution_count": 15,
   "id": "a6d78342",
   "metadata": {},
   "outputs": [
    {
     "name": "stdout",
     "output_type": "stream",
     "text": [
      "72/72 [==============================] - 0s 2ms/step\n"
     ]
    }
   ],
   "source": [
    "# Reconstruct headlines in the test set\n",
    "X_test_reconstructed = autoencoder.predict(X_test)\n",
    "\n",
    "# Calculate the reconstruction errors\n",
    "reconstruction_errors = np.mean((X_test - X_test_reconstructed)**2, axis=1)\n"
   ]
  },
  {
   "cell_type": "code",
   "execution_count": 16,
   "id": "0db7157d",
   "metadata": {},
   "outputs": [],
   "source": [
    "from sklearn.metrics import confusion_matrix\n",
    "\n",
    "def find_optimal_threshold(errors, y_true):\n",
    "    min_diff = float('inf')\n",
    "    optimal_threshold = 0\n",
    "\n",
    "    for threshold in np.linspace(errors.min(), errors.max(), num=1000):\n",
    "        y_pred = (errors > threshold).astype(int)\n",
    "        tn, fp, fn, tp = confusion_matrix(y_true, y_pred).ravel()\n",
    "        fpr = fp / (fp + tn)  # False Positive Rate\n",
    "        fnr = fn / (fn + tp)  # False Negative Rate\n",
    "\n",
    "        diff = abs(fpr - fnr)\n",
    "\n",
    "        if diff < min_diff:\n",
    "            min_diff = diff\n",
    "            optimal_threshold = threshold\n",
    "\n",
    "    return optimal_threshold\n",
    "\n",
    "threshold = find_optimal_threshold(reconstruction_errors, y_test)\n"
   ]
  },
  {
   "cell_type": "code",
   "execution_count": 17,
   "id": "d0c0c054",
   "metadata": {},
   "outputs": [],
   "source": [
    "y_pred = (reconstruction_errors > threshold).astype(int)\n"
   ]
  },
  {
   "cell_type": "code",
   "execution_count": 18,
   "id": "25cfdf4b",
   "metadata": {},
   "outputs": [
    {
     "name": "stdout",
     "output_type": "stream",
     "text": [
      "Autoencoder Classifier Metrics:\n",
      "Accuracy: 0.5695047784535187\n",
      "Precision: 0.5720448662640207\n",
      "Recall: 0.572538860103627\n",
      "F1 Score: 0.5722917565817869\n"
     ]
    }
   ],
   "source": [
    "from sklearn.metrics import accuracy_score, precision_score, recall_score, f1_score\n",
    "\n",
    "# Calculate metrics\n",
    "accuracy = accuracy_score(y_test, y_pred)\n",
    "precision = precision_score(y_test, y_pred)\n",
    "recall = recall_score(y_test, y_pred)\n",
    "f1 = f1_score(y_test, y_pred)\n",
    "\n",
    "print(f\"Autoencoder Classifier Metrics:\\nAccuracy: {accuracy}\\nPrecision: {precision}\\nRecall: {recall}\\nF1 Score: {f1}\")\n",
    "\n"
   ]
  },
  {
   "cell_type": "markdown",
   "id": "6ee5efee",
   "metadata": {},
   "source": [
    "Logistic Regression"
   ]
  },
  {
   "cell_type": "code",
   "execution_count": 19,
   "id": "3dcfe5fe",
   "metadata": {},
   "outputs": [
    {
     "name": "stdout",
     "output_type": "stream",
     "text": [
      "Logistic Regression Metrics:\n",
      "Accuracy: 0.8857515204170286\n",
      "Precision: 0.8942731277533039\n",
      "Recall: 0.8765112262521589\n",
      "F1 Score: 0.8853030963802879\n"
     ]
    }
   ],
   "source": [
    "from sklearn.linear_model import LogisticRegression\n",
    "\n",
    "# Train the logistic regression model with an increased number of iterations\n",
    "log_reg = LogisticRegression(max_iter=1000)\n",
    "log_reg.fit(X_train, y_train)\n",
    "\n",
    "# Make predictions\n",
    "y_pred_log_reg = log_reg.predict(X_test)\n",
    "\n",
    "# Calculate metrics\n",
    "accuracy_log_reg = accuracy_score(y_test, y_pred_log_reg)\n",
    "precision_log_reg = precision_score(y_test, y_pred_log_reg)\n",
    "recall_log_reg = recall_score(y_test, y_pred_log_reg)\n",
    "f1_log_reg = f1_score(y_test, y_pred_log_reg)\n",
    "\n",
    "print(f\"Logistic Regression Metrics:\\nAccuracy: {accuracy_log_reg}\\nPrecision: {precision_log_reg}\\nRecall: {recall_log_reg}\\nF1 Score: {f1_log_reg}\")\n"
   ]
  },
  {
   "cell_type": "markdown",
   "id": "292aff6c",
   "metadata": {},
   "source": [
    "Random Forest"
   ]
  },
  {
   "cell_type": "code",
   "execution_count": 20,
   "id": "6331c5ad",
   "metadata": {},
   "outputs": [
    {
     "name": "stdout",
     "output_type": "stream",
     "text": [
      "Random Forest Metrics:\n",
      "Accuracy: 0.9018245004344049\n",
      "Precision: 0.898972602739726\n",
      "Recall: 0.9067357512953368\n",
      "F1 Score: 0.9028374892519347\n"
     ]
    }
   ],
   "source": [
    "from sklearn.ensemble import RandomForestClassifier\n",
    "\n",
    "# Train the random forest model\n",
    "rf = RandomForestClassifier()\n",
    "rf.fit(X_train, y_train)\n",
    "\n",
    "# Make predictions\n",
    "y_pred_rf = rf.predict(X_test)\n",
    "\n",
    "# Calculate metrics\n",
    "accuracy_rf = accuracy_score(y_test, y_pred_rf)\n",
    "precision_rf = precision_score(y_test, y_pred_rf)\n",
    "recall_rf = recall_score(y_test, y_pred_rf)\n",
    "f1_rf = f1_score(y_test, y_pred_rf)\n",
    "\n",
    "print(f\"Random Forest Metrics:\\nAccuracy: {accuracy_rf}\\nPrecision: {precision_rf}\\nRecall: {recall_rf}\\nF1 Score: {f1_rf}\")\n"
   ]
  },
  {
   "cell_type": "markdown",
   "id": "844dca34",
   "metadata": {},
   "source": [
    "MLP"
   ]
  },
  {
   "cell_type": "code",
   "execution_count": 21,
   "id": "eee1f11c",
   "metadata": {},
   "outputs": [
    {
     "name": "stdout",
     "output_type": "stream",
     "text": [
      "MLP:\n",
      "Accuracy: 0.9061685490877498\n",
      "Precision: 0.9212880143112702\n",
      "Recall: 0.8894645941278065\n",
      "F1 Score: 0.9050966608084358\n"
     ]
    }
   ],
   "source": [
    "from sklearn.neural_network import MLPClassifier\n",
    "\n",
    "#Train\n",
    "mlp = MLPClassifier(solver='sgd', learning_rate = \"adaptive\", learning_rate_init = 0.1, alpha=1e-5,hidden_layer_sizes=(64,32), random_state=1,max_iter=500)\n",
    "mlp.fit(X_train, y_train)\n",
    "\n",
    "#Predict\n",
    "y_pred_mlp = mlp.predict(X_test)\n",
    "\n",
    "# Calculate metrics\n",
    "accuracy_mlp = accuracy_score(y_test, y_pred_mlp)\n",
    "precision_mlp = precision_score(y_test, y_pred_mlp)\n",
    "recall_mlp = recall_score(y_test, y_pred_mlp)\n",
    "f1_mlp = f1_score(y_test, y_pred_mlp)\n",
    "\n",
    "print(f\"MLP:\\nAccuracy: {accuracy_mlp}\\nPrecision: {precision_mlp}\\nRecall: {recall_mlp}\\nF1 Score: {f1_mlp}\")"
   ]
  },
  {
   "cell_type": "markdown",
   "id": "e80f1aa1",
   "metadata": {},
   "source": [
    "SVM"
   ]
  },
  {
   "cell_type": "code",
   "execution_count": 22,
   "id": "705ce726",
   "metadata": {},
   "outputs": [
    {
     "name": "stdout",
     "output_type": "stream",
     "text": [
      "SVM:\n",
      "Accuracy: 0.8874891398783666\n",
      "Precision: 0.8981399468556245\n",
      "Recall: 0.8756476683937824\n",
      "F1 Score: 0.8867512024486226\n"
     ]
    }
   ],
   "source": [
    "from sklearn.svm import LinearSVC\n",
    "\n",
    "#Train\n",
    "svc = LinearSVC(penalty = \"l1\", loss=\"squared_hinge\",dual=False, max_iter = 10000, tol = 0.001)\n",
    "svc.fit(X_train, y_train)\n",
    "\n",
    "#Predict\n",
    "y_pred_svc = svc.predict(X_test)\n",
    "\n",
    "# Calculate metrics\n",
    "accuracy_svc = accuracy_score(y_test, y_pred_svc)\n",
    "precision_svc = precision_score(y_test, y_pred_svc)\n",
    "recall_svc = recall_score(y_test, y_pred_svc)\n",
    "f1_svc = f1_score(y_test, y_pred_svc)\n",
    "\n",
    "print(f\"SVM:\\nAccuracy: {accuracy_svc}\\nPrecision: {precision_svc}\\nRecall: {recall_svc}\\nF1 Score: {f1_svc}\")"
   ]
  },
  {
   "cell_type": "markdown",
   "id": "710d69f1",
   "metadata": {},
   "source": [
    "Decision Tree"
   ]
  },
  {
   "cell_type": "code",
   "execution_count": 23,
   "id": "c83aacbc",
   "metadata": {},
   "outputs": [
    {
     "name": "stdout",
     "output_type": "stream",
     "text": [
      "Decision Tree:\n",
      "Accuracy: 0.8284100781928757\n",
      "Precision: 0.840929401251117\n",
      "Recall: 0.812607944732297\n",
      "F1 Score: 0.826526130873957\n"
     ]
    }
   ],
   "source": [
    "from sklearn.tree import DecisionTreeClassifier\n",
    "\n",
    "#Train\n",
    "dt = DecisionTreeClassifier(random_state=0)\n",
    "dt.fit(X_train, y_train)\n",
    "\n",
    "#Predict\n",
    "y_pred_dt = dt.predict(X_test)\n",
    "\n",
    "# Calculate metrics\n",
    "accuracy_dt = accuracy_score(y_test, y_pred_dt)\n",
    "precision_dt = precision_score(y_test, y_pred_dt)\n",
    "recall_dt = recall_score(y_test, y_pred_dt)\n",
    "f1_dt = f1_score(y_test, y_pred_dt)\n",
    "\n",
    "print(f\"Decision Tree:\\nAccuracy: {accuracy_dt}\\nPrecision: {precision_dt}\\nRecall: {recall_dt}\\nF1 Score: {f1_dt}\")"
   ]
  },
  {
   "cell_type": "markdown",
   "id": "cb8e8820",
   "metadata": {},
   "source": [
    "KNN"
   ]
  },
  {
   "cell_type": "code",
   "execution_count": 24,
   "id": "8ef9a7c9",
   "metadata": {},
   "outputs": [
    {
     "name": "stdout",
     "output_type": "stream",
     "text": [
      "KNN:\n",
      "Accuracy: 0.8935708079930496\n",
      "Precision: 0.9168949771689497\n",
      "Recall: 0.8670120898100173\n",
      "F1 Score: 0.8912561029738127\n"
     ]
    }
   ],
   "source": [
    "from sklearn.neighbors import KNeighborsClassifier\n",
    "\n",
    "#Train\n",
    "knn = KNeighborsClassifier(n_neighbors=5, metric=\"cosine\")\n",
    "knn.fit(X_train, y_train)\n",
    "\n",
    "#Predict\n",
    "y_pred_knn = knn.predict(X_test)\n",
    "\n",
    "# Calculate metrics\n",
    "accuracy_knn = accuracy_score(y_test, y_pred_knn)\n",
    "precision_knn = precision_score(y_test, y_pred_knn)\n",
    "recall_knn = recall_score(y_test, y_pred_knn)\n",
    "f1_knn = f1_score(y_test, y_pred_knn)\n",
    "\n",
    "print(f\"KNN:\\nAccuracy: {accuracy_knn}\\nPrecision: {precision_knn}\\nRecall: {recall_knn}\\nF1 Score: {f1_knn}\")"
   ]
  },
  {
   "cell_type": "markdown",
   "id": "54eeddba",
   "metadata": {},
   "source": [
    "AdaBoost based on Random Forest"
   ]
  },
  {
   "cell_type": "code",
   "execution_count": 25,
   "id": "978888a1",
   "metadata": {},
   "outputs": [
    {
     "name": "stdout",
     "output_type": "stream",
     "text": [
      "Decision Tree:\n",
      "Accuracy: 0.9183318853171155\n",
      "Precision: 0.9269366197183099\n",
      "Recall: 0.9093264248704663\n",
      "F1 Score: 0.9180470793374018\n"
     ]
    }
   ],
   "source": [
    "from sklearn.ensemble import AdaBoostClassifier\n",
    "from sklearn.ensemble import RandomForestClassifier\n",
    "\n",
    "#Train\n",
    "rf = RandomForestClassifier(max_depth=10, random_state=0)\n",
    "ada = AdaBoostClassifier(estimator = rf, n_estimators=10)\n",
    "ada.fit(X_train, y_train)\n",
    "\n",
    "#Predict\n",
    "y_pred_ada = ada.predict(X_test)\n",
    "\n",
    "# Calculate metrics\n",
    "accuracy_ada = accuracy_score(y_test, y_pred_ada)\n",
    "precision_ada = precision_score(y_test, y_pred_ada)\n",
    "recall_ada = recall_score(y_test, y_pred_ada)\n",
    "f1_ada = f1_score(y_test, y_pred_ada)\n",
    "\n",
    "print(f\"Decision Tree:\\nAccuracy: {accuracy_ada}\\nPrecision: {precision_ada}\\nRecall: {recall_ada}\\nF1 Score: {f1_ada}\")"
   ]
  },
  {
   "cell_type": "markdown",
   "id": "288ce4b0",
   "metadata": {},
   "source": [
    "# Results"
   ]
  },
  {
   "cell_type": "markdown",
   "id": "713fb281",
   "metadata": {},
   "source": [
    "We visualize our results using the figure below."
   ]
  },
  {
   "cell_type": "code",
   "execution_count": 52,
   "id": "8d714cf5",
   "metadata": {},
   "outputs": [
    {
     "data": {
      "image/png": "[encoded data removed]",
      "text/plain": [
       "<Figure size 640x480 with 1 Axes>"
      ]
     },
     "metadata": {},
     "output_type": "display_data"
    }
   ],
   "source": [
    "import matplotlib.pyplot as plt\n",
    "temp = [\"#1\",\"#2\",\"#3\",\"#4\",\"#5\",\"#6\",\"#7\",\"#8\"]\n",
    "x = [\"#1-autoencoder\",\"#2-logistic regression\",\"#3-random forest\",\"#4-MLP\",\"#5-SVM\",\"#6-decision tree\",\"#7-knn\",\"#8-adaboost(random forest)\"]\n",
    "y = [f1,f1_log_reg,f1_rf,f1_mlp,f1_svc,f1_dt,f1_knn,f1_ada]\n",
    "plt.bar(temp,y,label=x, color=np.array([\"red\",\"blue\",\"yellow\",\"green\",\"pink\",\"grey\",\"orange\",\"purple\"]))\n",
    "plt.xlabel('Method')\n",
    "plt.ylabel('F1 score')\n",
    "plt.title('Performance of classifiers')\n",
    "plt.legend(loc=\"center right\",bbox_to_anchor=(1.6, 0.5))\n",
    "plt.show()"
   ]
  },
  {
   "cell_type": "code",
   "execution_count": null,
   "id": "ce16c043",
   "metadata": {},
   "outputs": [],
   "source": []
  }
 ],
 "metadata": {
  "kernelspec": {
   "display_name": "Python 3 (ipykernel)",
   "language": "python",
   "name": "python3"
  },
  "language_info": {
   "codemirror_mode": {
    "name": "ipython",
    "version": 3
   },
   "file_extension": ".py",
   "mimetype": "text/x-python",
   "name": "python",
   "nbconvert_exporter": "python",
   "pygments_lexer": "ipython3",
   "version": "3.10.11"
  }
 },
 "nbformat": 4,
 "nbformat_minor": 5
}

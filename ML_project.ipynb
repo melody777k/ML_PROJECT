{
 "cells": [
  {
   "cell_type": "code",
   "execution_count": 67,
   "id": "c8ac86d7",
   "metadata": {},
   "outputs": [],
   "source": [
    "import pandas as pd\n",
    "import numpy as np\n",
    "from sklearn.model_selection import train_test_split\n",
    "from sklearn.feature_extraction.text import TfidfVectorizer\n",
    "import re\n",
    "import nltk\n",
    "from nltk.corpus import stopwords\n"
   ]
  },
  {
   "cell_type": "code",
   "execution_count": 68,
   "id": "a26558a6",
   "metadata": {},
   "outputs": [],
   "source": [
    "# Load datasets\n",
    "fake_politifact = pd.read_csv('politifact_fake.csv')\n",
    "real_politifact = pd.read_csv('politifact_real.csv')\n",
    "fake_gossipcop = pd.read_csv('gossipcop_fake.csv')\n",
    "real_gossipcop = pd.read_csv('gossipcop_real.csv')\n",
    "\n",
    "# Assign labels: 0 for fake news, 1 for real news\n",
    "fake_politifact['label'] = 0\n",
    "real_politifact['label'] = 1\n",
    "fake_gossipcop['label'] = 0\n",
    "real_gossipcop['label'] = 1\n",
    "\n",
    "# Concatenate datasets\n",
    "data = pd.concat([fake_politifact, real_politifact, fake_gossipcop, real_gossipcop], axis=0, ignore_index=True)\n"
   ]
  },
  {
   "cell_type": "code",
   "execution_count": 69,
   "id": "201c9311",
   "metadata": {},
   "outputs": [],
   "source": [
    "def clean_text(text):\n",
    "    # Remove special characters and numbers\n",
    "    text = re.sub('[^a-zA-Z]', ' ', text)\n",
    "\n",
    "    # Convert text to lowercase and tokenize words\n",
    "    words = text.lower().split()\n",
    "\n",
    "    # Remove stopwords\n",
    "    stop_words = set(stopwords.words('english'))\n",
    "    words = [word for word in words if word not in stop_words]\n",
    "\n",
    "    # Join words back into a single string\n",
    "    cleaned_text = ' '.join(words)\n",
    "    \n",
    "    return cleaned_text\n",
    "\n",
    "data['cleaned_title'] = data['title'].apply(clean_text)\n"
   ]
  },
  {
   "cell_type": "code",
   "execution_count": 70,
   "id": "e7d6f8cc",
   "metadata": {},
   "outputs": [],
   "source": [
    "# Split data into training and testing sets (80% train, 20% test)\n",
    "train_data, test_data = train_test_split(data, test_size=0.2, random_state=42)"
   ]
  },
  {
   "cell_type": "code",
   "execution_count": 71,
   "id": "0018e88d",
   "metadata": {},
   "outputs": [
    {
     "data": {
      "text/plain": [
       "(18556, 6)"
      ]
     },
     "execution_count": 71,
     "metadata": {},
     "output_type": "execute_result"
    }
   ],
   "source": [
    "train_data.shape"
   ]
  },
  {
   "cell_type": "code",
   "execution_count": 72,
   "id": "8ef5451e",
   "metadata": {},
   "outputs": [
    {
     "data": {
      "text/html": [
       "<div>\n",
       "<style scoped>\n",
       "    .dataframe tbody tr th:only-of-type {\n",
       "        vertical-align: middle;\n",
       "    }\n",
       "\n",
       "    .dataframe tbody tr th {\n",
       "        vertical-align: top;\n",
       "    }\n",
       "\n",
       "    .dataframe thead th {\n",
       "        text-align: right;\n",
       "    }\n",
       "</style>\n",
       "<table border=\"1\" class=\"dataframe\">\n",
       "  <thead>\n",
       "    <tr style=\"text-align: right;\">\n",
       "      <th></th>\n",
       "      <th>id</th>\n",
       "      <th>news_url</th>\n",
       "      <th>title</th>\n",
       "      <th>tweet_ids</th>\n",
       "      <th>label</th>\n",
       "      <th>cleaned_title</th>\n",
       "    </tr>\n",
       "  </thead>\n",
       "  <tbody>\n",
       "    <tr>\n",
       "      <th>9198</th>\n",
       "      <td>gossipcop-873539</td>\n",
       "      <td>https://www.etonline.com/news/223794_samuel_l_...</td>\n",
       "      <td>Samuel L. Jackson Schools James Corden in 'Dro...</td>\n",
       "      <td>897450356900114432\\t897450895167729664\\t897451...</td>\n",
       "      <td>1</td>\n",
       "      <td>samuel l jackson schools james corden drop mic...</td>\n",
       "    </tr>\n",
       "    <tr>\n",
       "      <th>14985</th>\n",
       "      <td>gossipcop-853226</td>\n",
       "      <td>https://www.nydailynews.com/new-york/nyc-crime...</td>\n",
       "      <td>Alleged Taylor Swift stalker waited on roof of...</td>\n",
       "      <td>864840870826090498\\t864840973523623936\\t864841...</td>\n",
       "      <td>1</td>\n",
       "      <td>alleged taylor swift stalker waited roof manha...</td>\n",
       "    </tr>\n",
       "    <tr>\n",
       "      <th>15100</th>\n",
       "      <td>gossipcop-850005</td>\n",
       "      <td>https://medium.com/@AlexChaney303138N/from-hop...</td>\n",
       "      <td>From Hopeful Australia Beginnings to a Tragic ...</td>\n",
       "      <td>864785411520049153\\t864786362523820038\\t864786...</td>\n",
       "      <td>1</td>\n",
       "      <td>hopeful australia beginnings tragic hollywood ...</td>\n",
       "    </tr>\n",
       "    <tr>\n",
       "      <th>6186</th>\n",
       "      <td>gossipcop-4516431341</td>\n",
       "      <td>variety.com/2017/legit/awards/tony-awards-2017...</td>\n",
       "      <td>Tony Awards 2017: Complete Winners List</td>\n",
       "      <td>873270018309447680\\t873271704667205632\\t873272...</td>\n",
       "      <td>0</td>\n",
       "      <td>tony awards complete winners list</td>\n",
       "    </tr>\n",
       "    <tr>\n",
       "      <th>11038</th>\n",
       "      <td>gossipcop-891466</td>\n",
       "      <td>https://en.wikipedia.org/wiki/Disappearance_of...</td>\n",
       "      <td>Disappearance of Madeleine McCann</td>\n",
       "      <td>926802996821970944\\t926803044611829760\\t926804...</td>\n",
       "      <td>1</td>\n",
       "      <td>disappearance madeleine mccann</td>\n",
       "    </tr>\n",
       "  </tbody>\n",
       "</table>\n",
       "</div>"
      ],
      "text/plain": [
       "                         id   \n",
       "9198       gossipcop-873539  \\\n",
       "14985      gossipcop-853226   \n",
       "15100      gossipcop-850005   \n",
       "6186   gossipcop-4516431341   \n",
       "11038      gossipcop-891466   \n",
       "\n",
       "                                                news_url   \n",
       "9198   https://www.etonline.com/news/223794_samuel_l_...  \\\n",
       "14985  https://www.nydailynews.com/new-york/nyc-crime...   \n",
       "15100  https://medium.com/@AlexChaney303138N/from-hop...   \n",
       "6186   variety.com/2017/legit/awards/tony-awards-2017...   \n",
       "11038  https://en.wikipedia.org/wiki/Disappearance_of...   \n",
       "\n",
       "                                                   title   \n",
       "9198   Samuel L. Jackson Schools James Corden in 'Dro...  \\\n",
       "14985  Alleged Taylor Swift stalker waited on roof of...   \n",
       "15100  From Hopeful Australia Beginnings to a Tragic ...   \n",
       "6186             Tony Awards 2017: Complete Winners List   \n",
       "11038                  Disappearance of Madeleine McCann   \n",
       "\n",
       "                                               tweet_ids  label   \n",
       "9198   897450356900114432\\t897450895167729664\\t897451...      1  \\\n",
       "14985  864840870826090498\\t864840973523623936\\t864841...      1   \n",
       "15100  864785411520049153\\t864786362523820038\\t864786...      1   \n",
       "6186   873270018309447680\\t873271704667205632\\t873272...      0   \n",
       "11038  926802996821970944\\t926803044611829760\\t926804...      1   \n",
       "\n",
       "                                           cleaned_title  \n",
       "9198   samuel l jackson schools james corden drop mic...  \n",
       "14985  alleged taylor swift stalker waited roof manha...  \n",
       "15100  hopeful australia beginnings tragic hollywood ...  \n",
       "6186                   tony awards complete winners list  \n",
       "11038                     disappearance madeleine mccann  "
      ]
     },
     "execution_count": 72,
     "metadata": {},
     "output_type": "execute_result"
    }
   ],
   "source": [
    "train_data.head()\n"
   ]
  },
  {
   "cell_type": "code",
   "execution_count": 73,
   "id": "190e6b82",
   "metadata": {},
   "outputs": [
    {
     "data": {
      "text/plain": [
       "(4640, 6)"
      ]
     },
     "execution_count": 73,
     "metadata": {},
     "output_type": "execute_result"
    }
   ],
   "source": [
    "test_data.shape"
   ]
  },
  {
   "cell_type": "code",
   "execution_count": 74,
   "id": "ac1214ef",
   "metadata": {},
   "outputs": [
    {
     "data": {
      "text/html": [
       "<div>\n",
       "<style scoped>\n",
       "    .dataframe tbody tr th:only-of-type {\n",
       "        vertical-align: middle;\n",
       "    }\n",
       "\n",
       "    .dataframe tbody tr th {\n",
       "        vertical-align: top;\n",
       "    }\n",
       "\n",
       "    .dataframe thead th {\n",
       "        text-align: right;\n",
       "    }\n",
       "</style>\n",
       "<table border=\"1\" class=\"dataframe\">\n",
       "  <thead>\n",
       "    <tr style=\"text-align: right;\">\n",
       "      <th></th>\n",
       "      <th>id</th>\n",
       "      <th>news_url</th>\n",
       "      <th>title</th>\n",
       "      <th>tweet_ids</th>\n",
       "      <th>label</th>\n",
       "      <th>cleaned_title</th>\n",
       "    </tr>\n",
       "  </thead>\n",
       "  <tbody>\n",
       "    <tr>\n",
       "      <th>4291</th>\n",
       "      <td>gossipcop-3430607867</td>\n",
       "      <td>www.today.com/video/mariah-careys-twins-steal-...</td>\n",
       "      <td>Mariah Carey’s twins steal spotlight at Hollyw...</td>\n",
       "      <td>629276787600560128\\t629286113706795009\\t629326...</td>\n",
       "      <td>0</td>\n",
       "      <td>mariah carey twins steal spotlight hollywood w...</td>\n",
       "    </tr>\n",
       "    <tr>\n",
       "      <th>14922</th>\n",
       "      <td>gossipcop-930854</td>\n",
       "      <td>https://people.com/tv/teen-mom-bombshells/</td>\n",
       "      <td>Teen Mom's Most Bombshell and Dramatic Moments</td>\n",
       "      <td>991304765010333696\\t991305082875662336\\t991305...</td>\n",
       "      <td>1</td>\n",
       "      <td>teen mom bombshell dramatic moments</td>\n",
       "    </tr>\n",
       "    <tr>\n",
       "      <th>19868</th>\n",
       "      <td>gossipcop-911475</td>\n",
       "      <td>https://www.vanityfair.com/hollywood/2018/02/s...</td>\n",
       "      <td>S.N.L.: Watch Natalie Portman Rap About Star W...</td>\n",
       "      <td>960156003277856768\\t960175040087150592\\t960178...</td>\n",
       "      <td>1</td>\n",
       "      <td>n l watch natalie portman rap star wars preque...</td>\n",
       "    </tr>\n",
       "    <tr>\n",
       "      <th>12669</th>\n",
       "      <td>gossipcop-847921</td>\n",
       "      <td>https://www.springfieldspringfield.co.uk/view_...</td>\n",
       "      <td>The Arrangement (2017) s02e02 Episode Script</td>\n",
       "      <td>859786149417504770\\t859786174889472000\\t859787...</td>\n",
       "      <td>1</td>\n",
       "      <td>arrangement e episode script</td>\n",
       "    </tr>\n",
       "    <tr>\n",
       "      <th>12570</th>\n",
       "      <td>gossipcop-886689</td>\n",
       "      <td>https://en.paperblog.com/the-platinum-life-rec...</td>\n",
       "      <td>The Platinum Life Recap: The Ladies Take a Tri...</td>\n",
       "      <td>919764599016058880\\t919764869817266176\\t919765...</td>\n",
       "      <td>1</td>\n",
       "      <td>platinum life recap ladies take trip vegas aly...</td>\n",
       "    </tr>\n",
       "  </tbody>\n",
       "</table>\n",
       "</div>"
      ],
      "text/plain": [
       "                         id   \n",
       "4291   gossipcop-3430607867  \\\n",
       "14922      gossipcop-930854   \n",
       "19868      gossipcop-911475   \n",
       "12669      gossipcop-847921   \n",
       "12570      gossipcop-886689   \n",
       "\n",
       "                                                news_url   \n",
       "4291   www.today.com/video/mariah-careys-twins-steal-...  \\\n",
       "14922         https://people.com/tv/teen-mom-bombshells/   \n",
       "19868  https://www.vanityfair.com/hollywood/2018/02/s...   \n",
       "12669  https://www.springfieldspringfield.co.uk/view_...   \n",
       "12570  https://en.paperblog.com/the-platinum-life-rec...   \n",
       "\n",
       "                                                   title   \n",
       "4291   Mariah Carey’s twins steal spotlight at Hollyw...  \\\n",
       "14922     Teen Mom's Most Bombshell and Dramatic Moments   \n",
       "19868  S.N.L.: Watch Natalie Portman Rap About Star W...   \n",
       "12669       The Arrangement (2017) s02e02 Episode Script   \n",
       "12570  The Platinum Life Recap: The Ladies Take a Tri...   \n",
       "\n",
       "                                               tweet_ids  label   \n",
       "4291   629276787600560128\\t629286113706795009\\t629326...      0  \\\n",
       "14922  991304765010333696\\t991305082875662336\\t991305...      1   \n",
       "19868  960156003277856768\\t960175040087150592\\t960178...      1   \n",
       "12669  859786149417504770\\t859786174889472000\\t859787...      1   \n",
       "12570  919764599016058880\\t919764869817266176\\t919765...      1   \n",
       "\n",
       "                                           cleaned_title  \n",
       "4291   mariah carey twins steal spotlight hollywood w...  \n",
       "14922                teen mom bombshell dramatic moments  \n",
       "19868  n l watch natalie portman rap star wars preque...  \n",
       "12669                       arrangement e episode script  \n",
       "12570  platinum life recap ladies take trip vegas aly...  "
      ]
     },
     "execution_count": 74,
     "metadata": {},
     "output_type": "execute_result"
    }
   ],
   "source": [
    "test_data.head()"
   ]
  },
  {
   "cell_type": "code",
   "execution_count": 75,
   "id": "111d41b5",
   "metadata": {},
   "outputs": [],
   "source": [
    "def load_glove_vectors(glove_file):\n",
    "    word_vectors = {}\n",
    "    with open(glove_file, 'r', encoding='utf-8') as f:\n",
    "        for line in f:\n",
    "            values = line.split()\n",
    "            word = values[0]\n",
    "            vector = np.asarray(values[1:], dtype='float32')\n",
    "            word_vectors[word] = vector\n",
    "    return word_vectors\n",
    "\n",
    "glove_vectors = load_glove_vectors('glove.6B.50d.txt')\n"
   ]
  },
  {
   "cell_type": "code",
   "execution_count": 76,
   "id": "5693d7db",
   "metadata": {},
   "outputs": [],
   "source": [
    "def weighted_average_vectors(docs, vectorizer, word_vectors, dim=50):\n",
    "    # Calculate the tf-idf weights for the given documents\n",
    "    tfidf_matrix = vectorizer.fit_transform(docs)\n",
    "\n",
    "    # Initialize an empty matrix to store the weighted average vectors\n",
    "    weighted_vectors = np.zeros((len(docs), dim))\n",
    "\n",
    "    # Iterate through the documents and compute the weighted average vector for each\n",
    "    for i, doc in enumerate(docs):\n",
    "        words = doc.split()\n",
    "        weighted_sum = np.zeros(dim)\n",
    "        total_weight = 0\n",
    "\n",
    "        for word in words:\n",
    "            if word in word_vectors and word in vectorizer.vocabulary_:\n",
    "                vector = word_vectors[word]\n",
    "                weight = tfidf_matrix[i, vectorizer.vocabulary_[word]]\n",
    "                weighted_sum += weight * vector\n",
    "                total_weight += weight\n",
    "\n",
    "        if total_weight != 0:\n",
    "            weighted_vectors[i] = weighted_sum / total_weight\n",
    "\n",
    "    return weighted_vectors\n"
   ]
  },
  {
   "cell_type": "code",
   "execution_count": 77,
   "id": "9adf5f41",
   "metadata": {},
   "outputs": [],
   "source": [
    "vectorizer = TfidfVectorizer(max_features=10000)\n",
    "X_train = weighted_average_vectors(train_data['cleaned_title'], vectorizer, glove_vectors)\n",
    "X_test = weighted_average_vectors(test_data['cleaned_title'], vectorizer, glove_vectors)\n",
    "\n",
    "y_train = train_data['label'].values\n",
    "y_test = test_data['label'].values\n"
   ]
  },
  {
   "cell_type": "code",
   "execution_count": null,
   "id": "25421393",
   "metadata": {},
   "outputs": [],
   "source": []
  },
  {
   "cell_type": "code",
   "execution_count": null,
   "id": "311e66a8",
   "metadata": {},
   "outputs": [],
   "source": []
  }
 ],
 "metadata": {
  "kernelspec": {
   "display_name": "Python 3 (ipykernel)",
   "language": "python",
   "name": "python3"
  },
  "language_info": {
   "codemirror_mode": {
    "name": "ipython",
    "version": 3
   },
   "file_extension": ".py",
   "mimetype": "text/x-python",
   "name": "python",
   "nbconvert_exporter": "python",
   "pygments_lexer": "ipython3",
   "version": "3.10.11"
  }
 },
 "nbformat": 4,
 "nbformat_minor": 5
}
